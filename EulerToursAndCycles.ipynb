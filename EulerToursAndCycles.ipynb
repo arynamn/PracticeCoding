{
 "cells": [
  {
   "cell_type": "code",
   "execution_count": 1,
   "id": "9a6a46e7",
   "metadata": {},
   "outputs": [],
   "source": [
    "import sys\n",
    "import networkx as nx\n",
    "import matplotlib.pyplot as plt\n",
    "class Graph:\n",
    "    def __init__(self, V):\n",
    "        self.V = V\n",
    "        self.nxg = nx.Graph()\n",
    "        self.G = {}\n",
    "        for i in range(V):\n",
    "            self.nxg.add_node(i)\n",
    "            self.G[i] = []\n",
    "        \n",
    "    def addEdge(self, u, v, undirected = True):\n",
    "        self.nxg.add_edge(u, v)\n",
    "        self.G[u].append(v)\n",
    "        if undirected:        \n",
    "            self.G[v].append(u)"
   ]
  },
  {
   "cell_type": "code",
   "execution_count": 2,
   "id": "eac9b23f",
   "metadata": {},
   "outputs": [],
   "source": [
    "class checkEuler:\n",
    "    def __init__(self, G):\n",
    "        self.V = G.V\n",
    "        self.G = G.G\n",
    "    \n",
    "    def dfs(self, v):\n",
    "        self.visit[v] = True\n",
    "        for nb in self.G[v]:\n",
    "            if self.visit[nb] == False:\n",
    "                self.dfs(nb)\n",
    "    \n",
    "    def connected(self):\n",
    "        self.visit = [False] * self.V\n",
    "        for i in range(self.V):\n",
    "            if len(self.G[i]) > 0:\n",
    "                break\n",
    "        if i == self.V - 1:\n",
    "            return True\n",
    "        self.dfs(i)\n",
    "        for i in range(self.V):\n",
    "            if len(self.G[i]) > 0 and self.visit[i] == False:\n",
    "                return False\n",
    "        return True\n",
    "    \n",
    "    def check(self):\n",
    "        if self.connected():\n",
    "            odd_degree_count = 0\n",
    "            for i in range(self.V):\n",
    "                odd_degree_count += (len(self.G[i]) % 2 == 1)\n",
    "                if odd_degree_count == 0:\n",
    "                    return \"Euler Circuit\"\n",
    "                if odd_degree_count == 2:\n",
    "                    return \"Euler Tour\"\n",
    "                if odd_degree_count > 2:\n",
    "                    return \"No Euler\""
   ]
  },
  {
   "cell_type": "code",
   "execution_count": 3,
   "id": "bdfd5458",
   "metadata": {},
   "outputs": [],
   "source": [
    "class checkDirectedEuler:\n",
    "    def __init__(self, G):\n",
    "        self.V = G.V\n",
    "        self.G = G.G\n",
    "        \n",
    "    def dfs(self, u, tempG):\n",
    "        self.visit[u] = True\n",
    "        for i in tempG[u]:\n",
    "            if self.visit[i] == False:\n",
    "                self.dfs(i, tempG)\n",
    "        \n",
    "    def transpose(self):\n",
    "        newg = Graph(self.V)\n",
    "        for v in range(self.V):\n",
    "            for nb in self.G[v]:\n",
    "                newg.addEdge(nb, v, undirected = False)\n",
    "        return newg\n",
    "        \n",
    "        \n",
    "    def check(self):\n",
    "        for i in range(self.V):\n",
    "            if len(self.G[i]):\n",
    "                break\n",
    "                \n",
    "        self.visit = [False] * self.V\n",
    "        self.dfs(i, self.G)\n",
    "        if self.visit.count(False) > 0:            return False\n",
    "        \n",
    "        newg = self.transpose()\n",
    "        self.visit = [False] * self.V\n",
    "        self.dfs(i, newg.G)\n",
    "        if self.visit.count(False) > 0:            \n",
    "            return False\n",
    "        \n",
    "        self.i = [0] * self.V\n",
    "        for node in self.G:\n",
    "            for nbor in self.G[node]:\n",
    "                self.i[nbor] += 1\n",
    "        for i in range(self.V):\n",
    "            if len(self.G[i]) != self.i[i]:\n",
    "                return False\n",
    "        return True   "
   ]
  },
  {
   "cell_type": "code",
   "execution_count": null,
   "id": "338a4c35",
   "metadata": {},
   "outputs": [],
   "source": []
  },
  {
   "cell_type": "code",
   "execution_count": 10,
   "id": "5471880a",
   "metadata": {},
   "outputs": [],
   "source": [
    "class getEuler:\n",
    "    def __init__(self, G):\n",
    "        self.G = G.G\n",
    "        self.V = G.V\n",
    "    \n",
    "    def dfs(self, u):\n",
    "        print(u)\n",
    "        while self.G[u]:\n",
    "            curr = self.G[u].pop(0)\n",
    "            self.G[curr].remove(u)\n",
    "            self.dfs(curr)\n",
    "        self.path.append(u)\n",
    "        \n",
    "    def eulerPath(self):\n",
    "        oddcount = 0\n",
    "        start = 0\n",
    "        for i in range(self.V):\n",
    "            print(i, self.G[i])\n",
    "            if len(self.G[i]) % 2 != 0:\n",
    "                oddcount +=1\n",
    "                start = i\n",
    "        if oddcount > 2: return False\n",
    "        \n",
    "        self.path = []\n",
    "        self.dfs(start)\n",
    "        return self.path"
   ]
  },
  {
   "cell_type": "code",
   "execution_count": null,
   "id": "b44e4697",
   "metadata": {},
   "outputs": [],
   "source": []
  },
  {
   "cell_type": "code",
   "execution_count": 5,
   "id": "307bb8b1",
   "metadata": {},
   "outputs": [
    {
     "name": "stdout",
     "output_type": "stream",
     "text": [
      "Euler Tour\n"
     ]
    },
    {
     "data": {
      "image/png": "[encoded data removed]",
      "text/plain": [
       "<Figure size 432x288 with 1 Axes>"
      ]
     },
     "metadata": {},
     "output_type": "display_data"
    }
   ],
   "source": [
    "g1 = Graph(5)\n",
    "g1.addEdge(1, 0)\n",
    "g1.addEdge(0, 2)\n",
    "g1.addEdge(2, 1)\n",
    "g1.addEdge(0, 3)\n",
    "g1.addEdge(3, 4)\n",
    "\n",
    "et1 = checkEuler(g1)\n",
    "print( et1.check() )\n",
    "nx.draw(g1.nxg, with_labels=True)"
   ]
  },
  {
   "cell_type": "code",
   "execution_count": 14,
   "id": "2aed7544",
   "metadata": {},
   "outputs": [
    {
     "name": "stdout",
     "output_type": "stream",
     "text": [
      "Euler Circuit\n",
      "0 [1, 2, 3, 4]\n",
      "1 [0, 2]\n",
      "2 [0, 1]\n",
      "3 [0, 4]\n",
      "4 [3, 0]\n",
      "0\n",
      "1\n",
      "2\n",
      "0\n",
      "3\n",
      "4\n",
      "0\n",
      "[0, 4, 3, 0, 2, 1, 0]\n"
     ]
    },
    {
     "data": {
      "image/png": "[encoded data removed]",
      "text/plain": [
       "<Figure size 432x288 with 1 Axes>"
      ]
     },
     "metadata": {},
     "output_type": "display_data"
    }
   ],
   "source": [
    "g2 = Graph(5)\n",
    "g2.addEdge(1, 0)\n",
    "g2.addEdge(0, 2)\n",
    "g2.addEdge(2, 1)\n",
    "g2.addEdge(0, 3)\n",
    "g2.addEdge(3, 4)\n",
    "g2.addEdge(4, 0)\n",
    "\n",
    "et2 = checkEuler(g2)\n",
    "print( et2.check() )\n",
    "nx.draw(g2.nxg, with_labels=True)\n",
    "\n",
    "ep = getEuler(g2)\n",
    "print(ep.eulerPath())"
   ]
  },
  {
   "cell_type": "code",
   "execution_count": 13,
   "id": "f8b7cced",
   "metadata": {},
   "outputs": [
    {
     "name": "stdout",
     "output_type": "stream",
     "text": [
      "True\n",
      "{0: [2, 3], 1: [0], 2: [1], 3: [4], 4: [0]}\n",
      "0 [2, 3]\n",
      "1 [0]\n",
      "2 [1]\n",
      "3 [4]\n",
      "4 [0]\n",
      "False\n"
     ]
    },
    {
     "data": {
      "image/png": "[encoded data removed]",
      "text/plain": [
       "<Figure size 432x288 with 1 Axes>"
      ]
     },
     "metadata": {},
     "output_type": "display_data"
    }
   ],
   "source": [
    "g = Graph(5);\n",
    "g.addEdge(1, 0, undirected=False);\n",
    "g.addEdge(0, 2, undirected=False);\n",
    "g.addEdge(2, 1, undirected=False);\n",
    "g.addEdge(0, 3, undirected=False);\n",
    "g.addEdge(3, 4, undirected=False);\n",
    "g.addEdge(4, 0, undirected=False);\n",
    "et = checkDirectedEuler(g)\n",
    "print(et.check())\n",
    "nx.draw_networkx(g.nxg, arrows=True, with_labels=True)\n",
    "\n",
    "\n",
    "print(g.G)\n",
    "\n",
    "ep = getEuler(g)\n",
    "print(ep.eulerPath())"
   ]
  },
  {
   "cell_type": "code",
   "execution_count": null,
   "id": "23ae2d16",
   "metadata": {},
   "outputs": [],
   "source": []
  }
 ],
 "metadata": {
  "kernelspec": {
   "display_name": "Python 3 (ipykernel)",
   "language": "python",
   "name": "python3"
  },
  "language_info": {
   "codemirror_mode": {
    "name": "ipython",
    "version": 3
   },
   "file_extension": ".py",
   "mimetype": "text/x-python",
   "name": "python",
   "nbconvert_exporter": "python",
   "pygments_lexer": "ipython3",
   "version": "3.8.5"
  }
 },
 "nbformat": 4,
 "nbformat_minor": 5
}
