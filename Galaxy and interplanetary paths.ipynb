{
 "cells": [
  {
   "cell_type": "code",
   "execution_count": 1,
   "id": "a3a09069",
   "metadata": {},
   "outputs": [],
   "source": [
    "class Solution:\n",
    "    def __init__(self):\n",
    "        pass\n",
    "    \n",
    "    def find(self, x):\n",
    "        if parent[x] != x:\n",
    "            parent[x] = find(parent[x])\n",
    "        return parent[x]\n",
    "    \n",
    "    def compute(self, n, edges, perm):\n",
    "        v = n + 1\n",
    "        G, xormaps = {}, {}\n",
    "        parent = [-1] * v + 1\n",
    "        rank = [1] * v + 1\n",
    "        distance = [0] * v + 1\n",
    "        \n",
    "        for i in range(1, v + 1):\n",
    "            xormaps[i] = { 0 : 1}\n",
    "            parent[i] = i\n",
    "            G[i] = [i]\n",
    "            \n",
    "        res = 0\n",
    "        ans = [0] * v\n",
    "        for idx in perm:\n",
    "            a, b, c = edges[idx-1]\n",
    "            root1, root2 = find(a), find(b)\n",
    "            \n",
    "            if rank[root1] < rank[root2]:\n",
    "                a, b, root1, root2 = b, a, root2, root1\n",
    "                \n",
    "            k = distance[b]\n",
    "            \n",
    "            for nbor in G[root2]:\n",
    "                distance[nbor] = distance[nbor] ^ k ^ c ^ distance[a]\n",
    "                if dis[nbor] in xormaps[root1]:\n",
    "                    res += xormaps[ root1 ][ distance[nbor] ]\n",
    "                G[root1].append( nbor )\n",
    "                \n",
    "            for nbor in G[root2]:\n",
    "                xormaps[root1][ distance[ nbor ] ] =  xormaps[root1].get( distance[ nbor ], 0) + 1\n",
    "                        \n",
    "            G[root2].clear()\n",
    "            xormaps[root2].clear()\n",
    "            \n",
    "            rank[root1] += rank[root2]\n",
    "            rank[root2] = 0\n",
    "            parent[root2] = root1\n",
    "            \n",
    "            ans[idx] = res\n",
    "        \n",
    "        return ans"
   ]
  },
  {
   "cell_type": "code",
   "execution_count": 2,
   "id": "6b5670a5",
   "metadata": {},
   "outputs": [],
   "source": [
    "n = 3\n",
    "edges = [ [1, 2, 4], [2, 3, 4]]\n",
    "perm = [1, 2][::-1]"
   ]
  },
  {
   "cell_type": "code",
   "execution_count": 3,
   "id": "49f8530a",
   "metadata": {},
   "outputs": [],
   "source": [
    "n = 4\n",
    "edges = [ [1, 2, 0], [2, 3, 0], [2, 4, 0], [3, 1, 2]]\n",
    "perm = [3, 1, 2]"
   ]
  },
  {
   "cell_type": "code",
   "execution_count": 4,
   "id": "f88f058f",
   "metadata": {},
   "outputs": [],
   "source": [
    "ob = Solution()\n",
    "ans = ob.compute(n, edges, perm)"
   ]
  },
  {
   "cell_type": "code",
   "execution_count": 5,
   "id": "ffa15e59",
   "metadata": {},
   "outputs": [
    {
     "name": "stdout",
     "output_type": "stream",
     "text": [
      "[0, 3, 6, 1, 0]\n",
      "6\n",
      "3\n",
      "1\n"
     ]
    }
   ],
   "source": [
    "print(ans)\n",
    "for x in perm[::-1]:\n",
    "    print(ans[x])"
   ]
  },
  {
   "cell_type": "code",
   "execution_count": null,
   "id": "a08979f0",
   "metadata": {},
   "outputs": [],
   "source": []
  },
  {
   "cell_type": "code",
   "execution_count": null,
   "id": "8139515a",
   "metadata": {},
   "outputs": [],
   "source": []
  }
 ],
 "metadata": {
  "kernelspec": {
   "display_name": "Python 3 (ipykernel)",
   "language": "python",
   "name": "python3"
  },
  "language_info": {
   "codemirror_mode": {
    "name": "ipython",
    "version": 3
   },
   "file_extension": ".py",
   "mimetype": "text/x-python",
   "name": "python",
   "nbconvert_exporter": "python",
   "pygments_lexer": "ipython3",
   "version": "3.8.5"
  }
 },
 "nbformat": 4,
 "nbformat_minor": 5
}
