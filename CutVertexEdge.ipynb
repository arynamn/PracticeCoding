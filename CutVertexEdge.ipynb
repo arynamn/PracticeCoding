{
 "cells": [
  {
   "cell_type": "code",
   "execution_count": 8,
   "id": "9a6a46e7",
   "metadata": {},
   "outputs": [],
   "source": [
    "import sys\n",
    "import networkx as nx\n",
    "import matplotlib.pyplot as plt\n",
    "class Graph:\n",
    "    def __init__(self, V):\n",
    "        self.V = V\n",
    "        self.nxg = nx.Graph()\n",
    "        self.G = {}\n",
    "        for i in range(V):\n",
    "            self.nxg.add_node(i)\n",
    "            self.G[i] = []\n",
    "        \n",
    "    def addEdge(self, u, v, undirected = True):\n",
    "        self.nxg.add_edge(u, v)\n",
    "        self.G[u].append(v)\n",
    "        if undirected:        self.G[v].append(u)"
   ]
  },
  {
   "cell_type": "code",
   "execution_count": 9,
   "id": "c5460801",
   "metadata": {},
   "outputs": [],
   "source": [
    "class cutVertexCaluculate:\n",
    "    def __init__(self, Graph):\n",
    "        self.G = Graph.G\n",
    "        self.V = Graph.V\n",
    "        \n",
    "    def dfs(self, u):\n",
    "        count = 0\n",
    "        self.visit[u] = True\n",
    "        self.discover[u], self.low[u], self.Time = self.Time, self.Time, self.Time + 1\n",
    "        for nbor in self.G[u]:\n",
    "            if self.visit[nbor] == False:\n",
    "                self.parent[nbor] = u\n",
    "                count += 1\n",
    "                self.dfs(nbor)\n",
    "                self.low[u] = min(self.low[u], self.low[nbor])\n",
    "                if self.parent[u] == -1 and count > 1:\n",
    "                    self.articulation[u] = 1\n",
    "                if self.parent[u] != -1 and self.low[u] < self.low[nbor]:\n",
    "                    self.articulation[u] = 1\n",
    "            else:\n",
    "                self.low[u] = min(self.low[u], self.discover[nbor])\n",
    "        \n",
    "    \n",
    "    def cutVertex(self):\n",
    "        self.visit = [False] * self.V\n",
    "        self.parent = [False] * self.V\n",
    "        self.discover = [sys.maxsize] * self.V\n",
    "        self.low = [sys.maxsize] * self.V\n",
    "        self.articulation = [False] * self.V\n",
    "        self.Time = 0\n",
    "        \n",
    "        for i in range(self.V):\n",
    "            if self.visit[i] == False:\n",
    "                self.parent[i] = -1\n",
    "                self.dfs(i)\n",
    "        \n",
    "        print(self.parent)\n",
    "        print(self.discover)\n",
    "        print(self.articulation)\n",
    "        print()"
   ]
  },
  {
   "cell_type": "code",
   "execution_count": 10,
   "id": "d55ef040",
   "metadata": {},
   "outputs": [],
   "source": [
    "class cutEdgeCalculate:\n",
    "    def __init__(self, Graph):\n",
    "        self.G = Graph.G\n",
    "        self.V = Graph.V\n",
    "    \n",
    "    def edgedfs(self, u):\n",
    "        count = 0\n",
    "        self.visit[u] = True\n",
    "        self.discover[u], self.low[u], self.Time = self.Time, self.Time, self.Time + 1\n",
    "        for nbor in self.G[u]:\n",
    "            if self.visit[nbor] == False:\n",
    "                self.parent[nbor] = u\n",
    "                count += 1\n",
    "                self.edgedfs(nbor)\n",
    "                self.low[u] = min(self.low[u], self.low[nbor])\n",
    "                if self.low[nbor] > self.discover[u]:\n",
    "                    self.cutEdges.append( (u, nbor) )\n",
    "                    \n",
    "            elif nbor != self.parent[u]:\n",
    "                self.low[u] = min(self.low[u], self.discover[nbor])\n",
    "    \n",
    "    def cutEdge(self):\n",
    "        self.visit = [False] * self.V\n",
    "        self.parent = [False] * self.V\n",
    "        self.discover = [sys.maxsize] * self.V\n",
    "        self.low = [sys.maxsize] * self.V\n",
    "        self.cutEdges = []\n",
    "        self.Time = 0\n",
    "        \n",
    "        for i in range(self.V):\n",
    "            if self.visit[i] == False:\n",
    "                self.parent[i] = -1\n",
    "                self.edgedfs(i)\n",
    "        \n",
    "        print(self.parent)\n",
    "        print(self.discover)\n",
    "        print(self.cutEdges)\n",
    "        print()"
   ]
  },
  {
   "cell_type": "code",
   "execution_count": null,
   "id": "eac9b23f",
   "metadata": {},
   "outputs": [],
   "source": []
  },
  {
   "cell_type": "code",
   "execution_count": null,
   "id": "bdfd5458",
   "metadata": {},
   "outputs": [],
   "source": []
  },
  {
   "cell_type": "code",
   "execution_count": null,
   "id": "89eb01f7",
   "metadata": {},
   "outputs": [],
   "source": []
  },
  {
   "cell_type": "code",
   "execution_count": 11,
   "id": "3670fe1f",
   "metadata": {},
   "outputs": [
    {
     "name": "stdout",
     "output_type": "stream",
     "text": [
      "[-1, 0, 1, 0, 3]\n",
      "[0, 1, 2, 3, 4]\n",
      "[1, False, False, 1, False]\n",
      "\n",
      "[-1, 0, 1, 0, 3]\n",
      "[0, 1, 2, 3, 4]\n",
      "[(3, 4), (0, 3)]\n",
      "\n"
     ]
    },
    {
     "data": {
      "image/png": "[encoded data removed]",
      "text/plain": [
       "<Figure size 432x288 with 1 Axes>"
      ]
     },
     "metadata": {},
     "output_type": "display_data"
    }
   ],
   "source": [
    "g1 = Graph(5)\n",
    "g1.addEdge(1, 0)\n",
    "g1.addEdge(0, 2)\n",
    "g1.addEdge(2, 1)\n",
    "g1.addEdge(0, 3)\n",
    "g1.addEdge(3, 4)\n",
    "\n",
    "cv1 = cutVertexCaluculate(g1)\n",
    "cv1.cutVertex() \n",
    "ce1 = cutEdgeCalculate(g1)\n",
    "ce1.cutEdge()\n",
    "nx.draw(g1.nxg, with_labels=True)"
   ]
  },
  {
   "cell_type": "code",
   "execution_count": 13,
   "id": "b648fd80",
   "metadata": {},
   "outputs": [
    {
     "name": "stdout",
     "output_type": "stream",
     "text": [
      "[-1, 0, 1, 2]\n",
      "[0, 1, 2, 3]\n",
      "[False, 1, 1, False]\n",
      "\n",
      "[-1, 0, 1, 2]\n",
      "[0, 1, 2, 3]\n",
      "[(2, 3), (1, 2), (0, 1)]\n",
      "\n"
     ]
    },
    {
     "data": {
      "image/png": "[encoded data removed]",
      "text/plain": [
       "<Figure size 432x288 with 1 Axes>"
      ]
     },
     "metadata": {},
     "output_type": "display_data"
    }
   ],
   "source": [
    "g2 = Graph(4)\n",
    "g2.addEdge(0, 1)\n",
    "g2.addEdge(1, 2)\n",
    "g2.addEdge(2, 3)\n",
    "\n",
    "cv2 = cutVertexCaluculate(g2)\n",
    "cv2.cutVertex() \n",
    "ce2 = cutEdgeCalculate(g2)\n",
    "ce2.cutEdge()\n",
    "nx.draw(g2.nxg, with_labels=True)"
   ]
  },
  {
   "cell_type": "code",
   "execution_count": 14,
   "id": "733d5fdc",
   "metadata": {},
   "outputs": [
    {
     "name": "stdout",
     "output_type": "stream",
     "text": [
      "[-1, 0, 1, 1, 5, 3, 1]\n",
      "[0, 1, 2, 3, 5, 4, 6]\n",
      "[False, 1, False, False, False, False, False]\n",
      "\n",
      "[-1, 0, 1, 1, 5, 3, 1]\n",
      "[0, 1, 2, 3, 5, 4, 6]\n",
      "[(1, 6)]\n",
      "\n"
     ]
    },
    {
     "data": {
      "image/png": "[encoded data removed]",
      "text/plain": [
       "<Figure size 432x288 with 1 Axes>"
      ]
     },
     "metadata": {},
     "output_type": "display_data"
    }
   ],
   "source": [
    "g3 = Graph (7)\n",
    "g3.addEdge(0, 1)\n",
    "g3.addEdge(1, 2)\n",
    "g3.addEdge(2, 0)\n",
    "g3.addEdge(1, 3)\n",
    "g3.addEdge(1, 4)\n",
    "g3.addEdge(1, 6)\n",
    "g3.addEdge(3, 5)\n",
    "g3.addEdge(4, 5)\n",
    "\n",
    "cv3 = cutVertexCaluculate(g3)\n",
    "cv3.cutVertex() \n",
    "ce3 = cutEdgeCalculate(g3)\n",
    "ce3.cutEdge()\n",
    "nx.draw(g3.nxg, with_labels=True)"
   ]
  },
  {
   "cell_type": "code",
   "execution_count": null,
   "id": "307bb8b1",
   "metadata": {},
   "outputs": [],
   "source": []
  },
  {
   "cell_type": "code",
   "execution_count": null,
   "id": "2aed7544",
   "metadata": {},
   "outputs": [],
   "source": []
  }
 ],
 "metadata": {
  "kernelspec": {
   "display_name": "Python 3 (ipykernel)",
   "language": "python",
   "name": "python3"
  },
  "language_info": {
   "codemirror_mode": {
    "name": "ipython",
    "version": 3
   },
   "file_extension": ".py",
   "mimetype": "text/x-python",
   "name": "python",
   "nbconvert_exporter": "python",
   "pygments_lexer": "ipython3",
   "version": "3.8.5"
  }
 },
 "nbformat": 4,
 "nbformat_minor": 5
}
