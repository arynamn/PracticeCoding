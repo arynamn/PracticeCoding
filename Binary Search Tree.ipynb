{
 "cells": [
  {
   "cell_type": "code",
   "execution_count": 1,
   "id": "aa769097",
   "metadata": {},
   "outputs": [],
   "source": [
    "class Node:\n",
    "    def __init__(self, val, left=None, right=None):\n",
    "        self.val = val\n",
    "        self.left = left\n",
    "        self.right = right"
   ]
  },
  {
   "cell_type": "code",
   "execution_count": 52,
   "id": "2f0ae051",
   "metadata": {},
   "outputs": [],
   "source": [
    "class BST:\n",
    "    def __init__(self):\n",
    "        self.root = None\n",
    "    \n",
    "    def insert(self, root, val):\n",
    "        if root == None:\n",
    "            return Node(val)\n",
    "        if root.val < val:\n",
    "            root.right = self.insert( root.right, val)\n",
    "        else:\n",
    "            root.left = self.insert( root.left, val )\n",
    "        return root\n",
    "    \n",
    "    def insertUtil(self, val):\n",
    "        if self.root == None:\n",
    "            self.root = Node(val)\n",
    "        else:\n",
    "            self.insert(self.root, val)\n",
    "    \n",
    "    def inorder(self):\n",
    "        if self.root == None:\n",
    "            return\n",
    "        q = [self.root]\n",
    "        while q:\n",
    "            nq = []\n",
    "            for c in q:\n",
    "                if c == 'tab':\n",
    "                    print(end = ' ')\n",
    "                else:\n",
    "                    print( c.val, end = ' ')\n",
    "                    if c.left:  nq.append(c.left)\n",
    "                    else:       nq.append('tab')\n",
    "                    if c.right: nq.append(c.right)\n",
    "                    else:       nq.append('tab')\n",
    "            q = nq\n",
    "            print()\n",
    "    \n",
    "    def delete(self, root, val):\n",
    "        if root == None:\n",
    "            return None \n",
    "        elif root.val < val:\n",
    "            root.right = self.delete(root.right, val)\n",
    "\n",
    "        elif root.val > val:\n",
    "            root.left  = self.delete(root.left, val)\n",
    "        \n",
    "        else:\n",
    "            if root.left == None and root.right == None:\n",
    "                return None\n",
    "\n",
    "            if root.left == None:\n",
    "                temp = root.right\n",
    "                root = None\n",
    "                return temp\n",
    "\n",
    "            if root.right == None:\n",
    "                temp = root.left \n",
    "                root = None\n",
    "                return temp \n",
    "\n",
    "            succ, succP = root.right, root\n",
    "            while succ.left != None:\n",
    "                succ, succP = succ.left, succ\n",
    "\n",
    "            if succP == root:\n",
    "                root.right = succ.right\n",
    "            else:\n",
    "                succP.left = succ.right\n",
    "            root.val = succ.val \n",
    "        return root\n",
    "    \n",
    "    def deleteUtil(self, val):\n",
    "        if self.root == None:\n",
    "            return \n",
    "        self.root = self.delete(self.root, val)"
   ]
  },
  {
   "cell_type": "code",
   "execution_count": 58,
   "id": "05095dac",
   "metadata": {},
   "outputs": [
    {
     "name": "stdout",
     "output_type": "stream",
     "text": [
      "4 \n",
      "2 5 \n",
      "1 3  7 \n",
      "    6 9 \n",
      "  8 10 \n",
      "    \n",
      "4 \n",
      "2 5 \n",
      " 3  7 \n",
      "  6 9 \n",
      "  8 10 \n",
      "    \n"
     ]
    }
   ],
   "source": [
    "bst = BST()\n",
    "arr = [4, 5 ,2, 1, 3, 7, 6, 9, 8, 10]\n",
    "for i in range(10):\n",
    "    bst.insertUtil(arr[i])\n",
    "bst.inorder()\n",
    "\n",
    "bst.deleteUtil(1)\n",
    "bst.inorder()"
   ]
  },
  {
   "cell_type": "code",
   "execution_count": null,
   "id": "2d5026df",
   "metadata": {},
   "outputs": [],
   "source": []
  },
  {
   "cell_type": "code",
   "execution_count": null,
   "id": "56fae81a",
   "metadata": {},
   "outputs": [],
   "source": []
  }
 ],
 "metadata": {
  "kernelspec": {
   "display_name": "Python 3 (ipykernel)",
   "language": "python",
   "name": "python3"
  },
  "language_info": {
   "codemirror_mode": {
    "name": "ipython",
    "version": 3
   },
   "file_extension": ".py",
   "mimetype": "text/x-python",
   "name": "python",
   "nbconvert_exporter": "python",
   "pygments_lexer": "ipython3",
   "version": "3.8.5"
  }
 },
 "nbformat": 4,
 "nbformat_minor": 5
}
