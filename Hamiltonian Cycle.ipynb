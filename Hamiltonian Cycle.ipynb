{
 "cells": [
  {
   "cell_type": "code",
   "execution_count": 13,
   "id": "23ae2d16",
   "metadata": {},
   "outputs": [],
   "source": [
    "class Graph():\n",
    "    def __init__(self, vertices, graph):\n",
    "        self.graph = graph\n",
    "        self.V = vertices\n",
    " \n",
    "    def isSafe(self, v, pos, path):\n",
    "        if self.graph[ path[pos-1] ][v] == 0:            return False\n",
    "        for vertex in path:            \n",
    "            if vertex == v:                return False\n",
    "        return True    \n",
    " \n",
    "    def hamCycleUtil(self, path, pos):\n",
    "        if pos == self.V:\n",
    "            if self.graph[ path[pos-1] ][ path[0] ] == 1:                return True\n",
    "            else:                return False\n",
    "            \n",
    "        for v in range(1,self.V):\n",
    "            if self.isSafe(v, pos, path) == True:\n",
    "                path[pos] = v\n",
    "                if self.hamCycleUtil(path, pos+1) == True:                    return True\n",
    "                path[pos] = -1\n",
    "        return False\n",
    " \n",
    "    def hamCycle(self):\n",
    "        path = [-1] * self.V\n",
    "        path[0] = 0\n",
    "        if self.hamCycleUtil(path,1) == False:\n",
    "            print (\"Solution does not exist\\n\")\n",
    "        else:\n",
    "            print(path)"
   ]
  },
  {
   "cell_type": "code",
   "execution_count": 15,
   "id": "f5791b99",
   "metadata": {},
   "outputs": [
    {
     "name": "stdout",
     "output_type": "stream",
     "text": [
      "[0, 1, 2, 4, 3]\n"
     ]
    }
   ],
   "source": [
    "g1 = Graph(5, [ \n",
    "    [0, 1, 0, 1, 0], \n",
    "    [1, 0, 1, 1, 1],\n",
    "    [0, 1, 0, 0, 1,],\n",
    "    [1, 1, 0, 0, 1],\n",
    "    [0, 1, 1, 1, 0], \n",
    "]\n",
    "          )\n",
    "g1.hamCycle();"
   ]
  },
  {
   "cell_type": "code",
   "execution_count": 16,
   "id": "c78cf4ea",
   "metadata": {},
   "outputs": [
    {
     "name": "stdout",
     "output_type": "stream",
     "text": [
      "Solution does not exist\n",
      "\n"
     ]
    }
   ],
   "source": [
    "g2 = Graph(5, [ [0, 1, 0, 1, 0], [1, 0, 1, 1, 1],\n",
    "        [0, 1, 0, 0, 1,], [1, 1, 0, 0, 0],\n",
    "        [0, 1, 1, 0, 0], ] )\n",
    "\n",
    "g2.hamCycle();"
   ]
  },
  {
   "cell_type": "code",
   "execution_count": null,
   "id": "e4c4876c",
   "metadata": {},
   "outputs": [],
   "source": []
  },
  {
   "cell_type": "code",
   "execution_count": null,
   "id": "320d4621",
   "metadata": {},
   "outputs": [],
   "source": []
  },
  {
   "cell_type": "code",
   "execution_count": 20,
   "id": "e4d791da",
   "metadata": {},
   "outputs": [],
   "source": [
    "import sys\n",
    "import networkx as nx\n",
    "import matplotlib.pyplot as plt\n",
    "class Graph:\n",
    "    def __init__(self, V):\n",
    "        self.V = V\n",
    "        self.nxg = nx.Graph()\n",
    "        self.G = {}\n",
    "        for i in range(V):\n",
    "            self.nxg.add_node(i)\n",
    "            self.G[i] = []\n",
    "        \n",
    "    def addEdge(self, u, v, undirected = True):\n",
    "        self.nxg.add_edge(u, v)\n",
    "        self.G[u].append(v)\n",
    "        if undirected:        \n",
    "            self.G[v].append(u)"
   ]
  },
  {
   "cell_type": "code",
   "execution_count": 30,
   "id": "07ddda9b",
   "metadata": {},
   "outputs": [],
   "source": [
    "class findHamPath:\n",
    "    def __init__(self, G):\n",
    "        self.V = G.V\n",
    "        self.graph = G.G\n",
    "        \n",
    "    def rec(self, total):\n",
    "        prev = self.path[-1]\n",
    "        self.visited[prev] = True\n",
    "        if total == self.V:\n",
    "            if self.path[0] in self.graph[ prev ]:   return True\n",
    "            else:                                                  return False\n",
    "        \n",
    "        for n in self.graph[prev]:\n",
    "            if self.visited[n] == False:\n",
    "                self.path.append(n)\n",
    "                if self.rec(total + 1):\n",
    "                    return True\n",
    "                self.path.pop(-1)\n",
    "        self.visited[prev] = False\n",
    "        return False\n",
    "\n",
    "    def util(self):\n",
    "        self.path = [0]\n",
    "        self.visited = [True] + [False] * (self.V - 1)\n",
    "        if self.rec(1):\n",
    "            return self.path\n",
    "        else:\n",
    "            return False"
   ]
  },
  {
   "cell_type": "code",
   "execution_count": 31,
   "id": "f5115594",
   "metadata": {},
   "outputs": [
    {
     "data": {
      "text/plain": [
       "[0, 1, 2, 4, 3]"
      ]
     },
     "execution_count": 31,
     "metadata": {},
     "output_type": "execute_result"
    }
   ],
   "source": [
    "g1 = Graph(5)\n",
    "g1.addEdge(0, 1)\n",
    "g1.addEdge(0, 3)\n",
    "g1.addEdge(1, 2)\n",
    "g1.addEdge(1, 3)\n",
    "g1.addEdge(1, 4)\n",
    "g1.addEdge(2, 4)\n",
    "g1.addEdge(3, 4)\n",
    "\n",
    "hp = findHamPath(g1)\n",
    "hp.util()"
   ]
  },
  {
   "cell_type": "code",
   "execution_count": null,
   "id": "3774712b",
   "metadata": {},
   "outputs": [],
   "source": []
  }
 ],
 "metadata": {
  "kernelspec": {
   "display_name": "Python 3 (ipykernel)",
   "language": "python",
   "name": "python3"
  },
  "language_info": {
   "codemirror_mode": {
    "name": "ipython",
    "version": 3
   },
   "file_extension": ".py",
   "mimetype": "text/x-python",
   "name": "python",
   "nbconvert_exporter": "python",
   "pygments_lexer": "ipython3",
   "version": "3.8.5"
  }
 },
 "nbformat": 4,
 "nbformat_minor": 5
}
