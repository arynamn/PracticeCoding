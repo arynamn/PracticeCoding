{
 "cells": [
  {
   "cell_type": "code",
   "execution_count": 44,
   "id": "f86727d8",
   "metadata": {},
   "outputs": [],
   "source": [
    "class NumArray:\n",
    "    def __init__(self, nums):\n",
    "        self.N = len(nums)\n",
    "        x = int(ceil(log2(self.N)))\n",
    "        self.tree = [0] * (2 * (2**x) )\n",
    "        for i in range(self.N):                     self.tree[i + self.N] = nums[i]\n",
    "        for i in range(self.N-1, 0, -1):            self.tree[i] = max(self.tree[2*i] , self.tree[2*i + 1] )\n",
    "            \n",
    "    def update(self, index: int, val: int) -> None:\n",
    "        self.tree[ self.N + index ] = val\n",
    "        i = self.N + index\n",
    "        i = i // 2\n",
    "        while i > 0:\n",
    "            self.tree[i] = max( self.tree[2*i] , self.tree[2*i + 1])\n",
    "            i = i // 2\n",
    "    \n",
    "    def sumRange(self, left: int, right: int) -> int:\n",
    "        res = -sys.maxsize\n",
    "        l, r = left + self.N, right + self.N + 1\n",
    "        while l < r:\n",
    "            if l & 1 :\n",
    "                res = max(res, self.tree[l])\n",
    "                l += 1\n",
    "            if r & 1 :\n",
    "                r -= 1\n",
    "                res = max(res, self.tree[r])\n",
    "            l, r = l // 2, r // 2\n",
    "        return res"
   ]
  },
  {
   "cell_type": "code",
   "execution_count": 55,
   "id": "5193a6ca",
   "metadata": {},
   "outputs": [],
   "source": [
    "arr = [1, 3, 5, 7, 9, 11]"
   ]
  },
  {
   "cell_type": "code",
   "execution_count": 56,
   "id": "12e4e39c",
   "metadata": {},
   "outputs": [
    {
     "data": {
      "text/plain": [
       "[0, 11, 11, 3, 7, 11, 1, 3, 5, 7, 9, 11, 0, 0, 0, 0]"
      ]
     },
     "execution_count": 56,
     "metadata": {},
     "output_type": "execute_result"
    }
   ],
   "source": [
    "tree = NumArray(arr)\n",
    "tree.tree"
   ]
  },
  {
   "cell_type": "code",
   "execution_count": 57,
   "id": "63ac517c",
   "metadata": {},
   "outputs": [
    {
     "data": {
      "text/plain": [
       "11"
      ]
     },
     "execution_count": 57,
     "metadata": {},
     "output_type": "execute_result"
    }
   ],
   "source": [
    "tree.sumRange(0, 5)"
   ]
  },
  {
   "cell_type": "code",
   "execution_count": 58,
   "id": "1adddb2e",
   "metadata": {},
   "outputs": [
    {
     "data": {
      "text/plain": [
       "[0, 11, 11, 3, 7, 11, 1, 3, 5, 7, 3, 11, 0, 0, 0, 0]"
      ]
     },
     "execution_count": 58,
     "metadata": {},
     "output_type": "execute_result"
    }
   ],
   "source": [
    "tree.update(4, 3)\n",
    "tree.tree"
   ]
  },
  {
   "cell_type": "code",
   "execution_count": null,
   "id": "bb0ab8a4",
   "metadata": {},
   "outputs": [],
   "source": []
  },
  {
   "cell_type": "code",
   "execution_count": null,
   "id": "4cab552d",
   "metadata": {},
   "outputs": [],
   "source": []
  }
 ],
 "metadata": {
  "kernelspec": {
   "display_name": "Python 3 (ipykernel)",
   "language": "python",
   "name": "python3"
  },
  "language_info": {
   "codemirror_mode": {
    "name": "ipython",
    "version": 3
   },
   "file_extension": ".py",
   "mimetype": "text/x-python",
   "name": "python",
   "nbconvert_exporter": "python",
   "pygments_lexer": "ipython3",
   "version": "3.8.5"
  }
 },
 "nbformat": 4,
 "nbformat_minor": 5
}
